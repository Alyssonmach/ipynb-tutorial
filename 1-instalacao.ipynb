{
 "cells": [
  {
   "cell_type": "markdown",
   "id": "vocal-soccer",
   "metadata": {},
   "source": [
    "# Instalando o Software Jupyter\n",
    "***\n",
    "Siga os pasos abaixo e instale o `JupyterLab` ou o clássico `Jupyter Notebook` em seu computador em minutos!"
   ]
  },
  {
   "cell_type": "markdown",
   "id": "radio-disorder",
   "metadata": {},
   "source": [
    "> `Conteúdo fornecido pelo Jupyter`"
   ]
  },
  {
   "cell_type": "markdown",
   "id": "effective-carnival",
   "metadata": {},
   "source": [
    "### Configurando o `Python`\n",
    "\n",
    "O Jupyter é uma ferramenta desenvolvida para funcionar essencialmente com a linguagem de programação Python (embora seja compátivel com outras linguagens). Desse modo, para que o seu funcionamento ocorra perfeitamente, é necessários que o Jupyter esteja configurado em sua máquina corretamente. Abaixo, segue alguns links de instalação para os sistemas operacionais mais comuns:\n",
    "- [Guia de instalação no Windows](https://docs.python.org/3/using/windows.html)\n",
    "- [Guia de instalação no Linux](https://docs.python-guide.org/starting/install3/linux/)\n",
    "- [Guia de instalação no MacOS](https://docs.python.org/3/using/mac.html)"
   ]
  },
  {
   "cell_type": "markdown",
   "id": "disturbed-bones",
   "metadata": {},
   "source": [
    "## Começando com o `JupyterLab`\n",
    "> *O [guia de instalação](https://jupyterlab.readthedocs.io/en/stable/getting_started/installation.html) fornece detalhes mais precisos*\n",
    "\n",
    "### Instale com o conda\n",
    "\n",
    "Se você usa o `conda`, pode instalar usando a seguinte linha de comando:\n",
    "```\n",
    "conda install -c conda-forge jupyterlab\n",
    "```\n",
    "\n",
    "### Instale com o pip\n",
    "\n",
    "Se você usa o `pip`, pode instalar usando a seguinte linha de comando:\n",
    "```\n",
    "pip install jupyterlab\n",
    "```\n",
    "\n",
    "Se estiver instalando usando `pip install --user`, você deve adicionar o diretório bin de nível de usuário à sua variável de ambiente `PATH` para iniciar o jupyter lab. Se estiver usando um derivado do Unix (*FreeBSD*, *GNU* / *Linux*, *OS X*), você pode fazer isso usando o comando `export PATH=\"$HOME/.local/bin:$PATH\"`."
   ]
  },
  {
   "cell_type": "markdown",
   "id": "terminal-roberts",
   "metadata": {},
   "source": [
    "## Começando com o `Jupyter Notebook`\n",
    "\n",
    "### Instale com o conda\n",
    "\n",
    "Recomendamos instalar o Jupyter Notebook clássico usando o gerenciador de pacotes conda. As distribuições [miniconda](https://docs.conda.io/en/latest/miniconda.html) ou [miniforge](https://github.com/conda-forge/miniforge/) conda incluem uma instalação mínima de conda.  \n",
    "Você pode instalar usando a seguinte linha de comando:\n",
    "```\n",
    "conda install -c conda-forge notebook\n",
    "```\n",
    "\n",
    "### Instale com o pip\n",
    "\n",
    "Se você usa o `pip`, pode instalar usando a seguinte linha de comando\n",
    "```\n",
    "pip install notebook\n",
    "```\n",
    "\n",
    "Parabéns, você instalou o Jupyter Notebook! Para executar o notebook, execute o seguinte comando no Terminal (Mac / Linux) ou Prompt de Comando (Windows):\n",
    "```\n",
    "jupyter notebook\n",
    "```\n",
    "\n",
    "> *Veja [rodando os notebooks](https://jupyter.readthedocs.io/en/latest/running.html#running) para mais detalhes*"
   ]
  },
  {
   "cell_type": "markdown",
   "id": "exterior-announcement",
   "metadata": {},
   "source": [
    "### Começando com o `Google Colaboratory`\n",
    "\n",
    "Caso você não queria optar por rodar os códigos em servidor local, o [Google Colaboratory](https://colab.research.google.com/notebooks/intro.ipynb#recent=true) oferece gratuitamente um ambiente de acesso Jupyter."
   ]
  }
 ],
 "metadata": {
  "kernelspec": {
   "display_name": "Python 3",
   "language": "python",
   "name": "python3"
  },
  "language_info": {
   "codemirror_mode": {
    "name": "ipython",
    "version": 3
   },
   "file_extension": ".py",
   "mimetype": "text/x-python",
   "name": "python",
   "nbconvert_exporter": "python",
   "pygments_lexer": "ipython3",
   "version": "3.8.7"
  }
 },
 "nbformat": 4,
 "nbformat_minor": 5
}
